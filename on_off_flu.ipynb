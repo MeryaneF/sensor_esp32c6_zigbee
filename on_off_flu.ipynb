{
  "nbformat": 4,
  "nbformat_minor": 0,
  "metadata": {
    "colab": {
      "provenance": []
    },
    "kernelspec": {
      "name": "python3",
      "display_name": "Python 3"
    },
    "language_info": {
      "name": "python"
    }
  },
  "cells": [
    {
      "cell_type": "code",
      "source": [
        "pip install graphviz\n"
      ],
      "metadata": {
        "colab": {
          "base_uri": "https://localhost:8080/"
        },
        "id": "LDOjB05MsY5i",
        "outputId": "c1e736d7-9195-4753-fe30-0dbcb6b8fc21"
      },
      "execution_count": null,
      "outputs": [
        {
          "output_type": "stream",
          "name": "stdout",
          "text": [
            "Requirement already satisfied: graphviz in /usr/local/lib/python3.10/dist-packages (0.20.3)\n"
          ]
        }
      ]
    },
    {
      "cell_type": "code",
      "source": [
        "from graphviz import Digraph\n",
        "import os\n",
        "\n",
        "# Criação do fluxograma\n",
        "fluxograma = Digraph(\"Comunicação Zigbee\", format=\"png\")\n",
        "fluxograma.attr(rankdir=\"TB\", size=\"8,10\")\n",
        "\n",
        "# Nós do fluxograma\n",
        "fluxograma.node(\"inicio\", \"Início\", shape=\"ellipse\")\n",
        "fluxograma.node(\"iniciar_stack\", \"Inicializar Zigbee Stack\", shape=\"box\")\n",
        "fluxograma.node(\"registrar_endpoint\", \"Configurar e Registrar Endpoint\", shape=\"box\")\n",
        "fluxograma.node(\"verificar_estado\", \"Verificar Estado do Dispositivo\\n(Novo ou Reboot)\", shape=\"diamond\")\n",
        "fluxograma.node(\"comissionamento\", \"Iniciar Comissionamento\\n(Network Steering)\", shape=\"box\")\n",
        "fluxograma.node(\"repetir_comissionamento\", \"Repetir Comissionamento\", shape=\"box\")\n",
        "fluxograma.node(\"detalhes_rede\", \"Entrar na Rede\\n(PAN ID, Canal, Endereço Curto)\", shape=\"box\")\n",
        "fluxograma.node(\"receber_msg\", \"Receber Mensagens Zigbee\\n(Processar Atributos)\", shape=\"box\")\n",
        "fluxograma.node(\"log_eventos\", \"Registrar Eventos do Sistema\", shape=\"box\")\n",
        "fluxograma.node(\"fim\", \"Fim / Aguardar Comandos\\nno Loop Principal\", shape=\"ellipse\")\n",
        "\n",
        "# Conexões entre os nós\n",
        "fluxograma.edge(\"inicio\", \"iniciar_stack\")\n",
        "fluxograma.edge(\"iniciar_stack\", \"registrar_endpoint\")\n",
        "fluxograma.edge(\"registrar_endpoint\", \"verificar_estado\")\n",
        "fluxograma.edge(\"verificar_estado\", \"comissionamento\", label=\"Dispositivo Novo\")\n",
        "fluxograma.edge(\"verificar_estado\", \"detalhes_rede\", label=\"Reboot\")\n",
        "fluxograma.edge(\"comissionamento\", \"detalhes_rede\", label=\"Sucesso\")\n",
        "fluxograma.edge(\"comissionamento\", \"repetir_comissionamento\", label=\"Falha\")\n",
        "fluxograma.edge(\"repetir_comissionamento\", \"comissionamento\")\n",
        "fluxograma.edge(\"detalhes_rede\", \"receber_msg\")\n",
        "fluxograma.edge(\"receber_msg\", \"log_eventos\")\n",
        "fluxograma.edge(\"log_eventos\", \"fim\")\n",
        "\n",
        "# Renderização do fluxograma\n",
        "caminho_saida = os.path.abspath(\"fluxograma_comunicacao_zigbee\")\n",
        "try:\n",
        "    fluxograma.render(caminho_saida, view=True)\n",
        "    print(f\"Fluxograma gerado com sucesso: {caminho_saida}.png\")\n",
        "except Exception as e:\n",
        "    print(f\"Erro ao gerar o fluxograma: {e}\")\n"
      ],
      "metadata": {
        "colab": {
          "base_uri": "https://localhost:8080/"
        },
        "id": "Yo1EK8gntINN",
        "outputId": "e28c27a1-1500-43f4-c4ba-d9c377958a76"
      },
      "execution_count": null,
      "outputs": [
        {
          "output_type": "stream",
          "name": "stdout",
          "text": [
            "Fluxograma gerado com sucesso: /content/fluxograma_comunicacao_zigbee.png\n"
          ]
        }
      ]
    },
    {
      "cell_type": "code",
      "source": [
        "from google.colab import files\n",
        "files.download('fluxograma_comunicacao_zigbee.png')\n"
      ],
      "metadata": {
        "colab": {
          "base_uri": "https://localhost:8080/",
          "height": 17
        },
        "id": "-w4GZGjnszuI",
        "outputId": "a97dfe37-bae0-47f5-cb0a-68710be7f5bf"
      },
      "execution_count": null,
      "outputs": [
        {
          "output_type": "display_data",
          "data": {
            "text/plain": [
              "<IPython.core.display.Javascript object>"
            ],
            "application/javascript": [
              "\n",
              "    async function download(id, filename, size) {\n",
              "      if (!google.colab.kernel.accessAllowed) {\n",
              "        return;\n",
              "      }\n",
              "      const div = document.createElement('div');\n",
              "      const label = document.createElement('label');\n",
              "      label.textContent = `Downloading \"${filename}\": `;\n",
              "      div.appendChild(label);\n",
              "      const progress = document.createElement('progress');\n",
              "      progress.max = size;\n",
              "      div.appendChild(progress);\n",
              "      document.body.appendChild(div);\n",
              "\n",
              "      const buffers = [];\n",
              "      let downloaded = 0;\n",
              "\n",
              "      const channel = await google.colab.kernel.comms.open(id);\n",
              "      // Send a message to notify the kernel that we're ready.\n",
              "      channel.send({})\n",
              "\n",
              "      for await (const message of channel.messages) {\n",
              "        // Send a message to notify the kernel that we're ready.\n",
              "        channel.send({})\n",
              "        if (message.buffers) {\n",
              "          for (const buffer of message.buffers) {\n",
              "            buffers.push(buffer);\n",
              "            downloaded += buffer.byteLength;\n",
              "            progress.value = downloaded;\n",
              "          }\n",
              "        }\n",
              "      }\n",
              "      const blob = new Blob(buffers, {type: 'application/binary'});\n",
              "      const a = document.createElement('a');\n",
              "      a.href = window.URL.createObjectURL(blob);\n",
              "      a.download = filename;\n",
              "      div.appendChild(a);\n",
              "      a.click();\n",
              "      div.remove();\n",
              "    }\n",
              "  "
            ]
          },
          "metadata": {}
        },
        {
          "output_type": "display_data",
          "data": {
            "text/plain": [
              "<IPython.core.display.Javascript object>"
            ],
            "application/javascript": [
              "download(\"download_f9fc9a7c-0e68-49c0-b06f-68c6799d6043\", \"fluxograma_comunicacao_zigbee.png\", 67774)"
            ]
          },
          "metadata": {}
        }
      ]
    }
  ]
}